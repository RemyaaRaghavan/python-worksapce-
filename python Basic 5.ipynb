{
 "cells": [
  {
   "cell_type": "code",
   "execution_count": 1,
   "id": "7520bd7c",
   "metadata": {},
   "outputs": [
    {
     "data": {
      "text/plain": [
       "3"
      ]
     },
     "execution_count": 1,
     "metadata": {},
     "output_type": "execute_result"
    }
   ],
   "source": [
    "tuple=(10,20,10,30,20,40,30,50,30)\n",
    "#to count the number of elements\n",
    "tuple.count(10)\n",
    "tuple.count(30)"
   ]
  },
  {
   "cell_type": "code",
   "execution_count": 2,
   "id": "146000f9",
   "metadata": {},
   "outputs": [
    {
     "data": {
      "text/plain": [
       "7"
      ]
     },
     "execution_count": 2,
     "metadata": {},
     "output_type": "execute_result"
    }
   ],
   "source": [
    "#to find the index\n",
    "tuple.index(50)"
   ]
  },
  {
   "cell_type": "markdown",
   "id": "0a1525ba",
   "metadata": {},
   "source": [
    "# sets"
   ]
  },
  {
   "cell_type": "code",
   "execution_count": null,
   "id": "06f74c6c",
   "metadata": {},
   "outputs": [],
   "source": [
    "#will get all the value"
   ]
  }
 ],
 "metadata": {
  "kernelspec": {
   "display_name": "Python 3 (ipykernel)",
   "language": "python",
   "name": "python3"
  },
  "language_info": {
   "codemirror_mode": {
    "name": "ipython",
    "version": 3
   },
   "file_extension": ".py",
   "mimetype": "text/x-python",
   "name": "python",
   "nbconvert_exporter": "python",
   "pygments_lexer": "ipython3",
   "version": "3.10.9"
  }
 },
 "nbformat": 4,
 "nbformat_minor": 5
}
